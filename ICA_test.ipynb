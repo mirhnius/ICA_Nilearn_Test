{
 "cells": [
  {
   "cell_type": "code",
   "execution_count": 1,
   "metadata": {},
   "outputs": [],
   "source": [
    "import numpy as np\n",
    "import pathlib\n",
    "from nilearn.decomposition import CanICA\n",
    "def ICA_decomposition(func_filenames, group, i):\n",
    "    fast_ica = CanICA(n_components=30,\n",
    "                    memory=\"nilearn_cache\", memory_level=2,\n",
    "                    mask_strategy='whole-brain-template',\n",
    "                    do_cca=False,\n",
    "                    random_state=0)\n",
    "    fast_ica.fit(func_filenames)\n",
    "    P = pathlib.Path('/data/origami/niusha/codes/local-experiment/io/ICAs')\n",
    "    ICA_s = fast_ica.components_img_\n",
    "    ICA_s.to_filename(P / (f'ICAs_{group}_{i}.nii.gz'))\n",
    "    return ICA_s"
   ]
  },
  {
   "cell_type": "code",
   "execution_count": 2,
   "metadata": {},
   "outputs": [],
   "source": [
    "from nilearn import masking\n",
    "from nilearn.image import iter_img\n",
    "from nilearn.masking import apply_mask\n",
    "\n",
    "def Means_after_masking(ICAs,DBM_maps):\n",
    "\n",
    "    means_after_mask = np.zeros((30,DBM_maps.shape[3]))\n",
    "    for i, cur_img in enumerate(iter_img(ICAs)):\n",
    "        mask_img = masking.compute_epi_mask(cur_img)\n",
    "        means_after_mask[i,:] = np.mean(apply_mask(DBM_maps,mask_img),axis=1)\n",
    "        \n",
    "    return means_after_mask"
   ]
  },
  {
   "cell_type": "code",
   "execution_count": 3,
   "metadata": {},
   "outputs": [],
   "source": [
    "import pandas as pd\n",
    "\n",
    "subject_df = pd.read_csv(\"/data/origami/niusha/input/subject_IDs.csv\")\n",
    "\n",
    "N = len(subject_df.ID)\n",
    "ID_map = dict(zip(range(N),subject_df.ID))\n",
    "\n",
    "Healthy_index = np.where(subject_df.PD == 0)\n",
    "Healthy_subject = subject_df.ID.iloc[Healthy_index]\n",
    "\n",
    "PD_index = np.where(subject_df.PD == 1)\n",
    "PD_subject = subject_df.ID.iloc[PD_index]"
   ]
  },
  {
   "cell_type": "code",
   "execution_count": 4,
   "metadata": {},
   "outputs": [],
   "source": [
    "from nilearn.image import load_img\n",
    "Original_DBMs = load_img(\"/data/origami/niusha/input/DBM_data.nii.gz\")"
   ]
  },
  {
   "cell_type": "code",
   "execution_count": null,
   "metadata": {},
   "outputs": [],
   "source": [
    "from random import sample\n",
    "from nilearn.image import index_img\n",
    "from scipy.stats import ttest_ind\n",
    "\n",
    "P_vals = np.zeros((50,30))\n",
    "T_vals = np.zeros((50,30))\n",
    "\n",
    "for j in range(20):\n",
    "\n",
    "    PD_sample = sample((PD_index[0]).tolist(), len(PD_index[0]))\n",
    "    Healthy_sample = sample((Healthy_index[0]).tolist(), len(Healthy_index[0]))\n",
    "\n",
    "    PD_bootstrapped_cohort = index_img(Original_DBMs, PD_sample)\n",
    "    Healthy_bootstrapped_cohort = index_img(Original_DBMs, Healthy_sample)\n",
    "\n",
    "    PD_ICAs = ICA_decomposition(PD_bootstrapped_cohort, \"PD\", j)\n",
    "    Healthy_ICAs = ICA_decomposition(Healthy_bootstrapped_cohort, \"Healthy\", j)\n",
    "\n",
    "    PD_means = Means_after_masking(PD_ICAs,PD_bootstrapped_cohort)\n",
    "    Healthy_means = Means_after_masking(Healthy_ICAs,Healthy_bootstrapped_cohort)\n",
    "\n",
    "    for i in range(30):\n",
    "        T_vals[j,i], P_vals[j,i] = ttest_ind(PD_means[:,i], Healthy_means[:,i])"
   ]
  },
  {
   "cell_type": "code",
   "execution_count": 9,
   "metadata": {},
   "outputs": [
    {
     "data": {
      "text/plain": [
       "(20, 30)"
      ]
     },
     "execution_count": 9,
     "metadata": {},
     "output_type": "execute_result"
    }
   ],
   "source": [
    "P_vals_reshaped = P_vals.reshape(P_vals.shape[0], -1)\n",
    "np.savetxt(\"./io/p_values.txt\", P_vals_reshaped)\n",
    "\n",
    "T_vals_reshaped = T_vals.reshape(T_vals.shape[0], -1)\n",
    "np.savetxt(\"./io/t_stat.txt\", T_vals_reshaped)"
   ]
  },
  {
   "cell_type": "code",
   "execution_count": null,
   "metadata": {},
   "outputs": [],
   "source": [
    "# from nilearn.plotting import plot_prob_atlas\n",
    "\n",
    "# # Plot all ICA components together\n",
    "# plot_prob_atlas(canica_components_img, title='All ICA components')\n",
    "\n",
    "# from nilearn.image import iter_img\n",
    "# from nilearn.plotting import plot_stat_map, show\n",
    "\n",
    "# for i, cur_img in enumerate(iter_img(canica_components_img)):\n",
    "#     plot_stat_map(cur_img, display_mode=\"z\", title=\"IC %d\" % i,\n",
    "#                   cut_coords=1, colorbar=False)"
   ]
  },
  {
   "cell_type": "code",
   "execution_count": null,
   "metadata": {},
   "outputs": [],
   "source": [
    "# from nilearn.glm import threshold_stats_img\n",
    "\n",
    "# ICA_tr = threshold_stats_img(stat_img=ICAs, threshold=3.0)\n",
    "#The output is not compatible with mask and also I dont know what is the ouput of ICA. I tought it would be z stat, but when I set thr=3 I receive warning regarding the amount"
   ]
  }
 ],
 "metadata": {
  "kernelspec": {
   "display_name": "Python 3.10.10 ('py10')",
   "language": "python",
   "name": "python3"
  },
  "language_info": {
   "codemirror_mode": {
    "name": "ipython",
    "version": 3
   },
   "file_extension": ".py",
   "mimetype": "text/x-python",
   "name": "python",
   "nbconvert_exporter": "python",
   "pygments_lexer": "ipython3",
   "version": "3.10.10"
  },
  "orig_nbformat": 4,
  "vscode": {
   "interpreter": {
    "hash": "34ac72a99a8d161ddae0a97484965b163e14fc1004e96fbe7e082180324cacb8"
   }
  }
 },
 "nbformat": 4,
 "nbformat_minor": 2
}
