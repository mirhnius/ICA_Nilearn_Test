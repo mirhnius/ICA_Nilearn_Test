{
 "cells": [
  {
   "cell_type": "code",
   "execution_count": 60,
   "metadata": {},
   "outputs": [],
   "source": [
    "import numpy as np\n",
    "import pathlib\n",
    "from nilearn.decomposition import CanICA\n",
    "def ICA_decomposition(func_filenames, group, i):\n",
    "    fast_ica = CanICA(n_components=30,\n",
    "                    memory=\"nilearn_cache\", memory_level=2,\n",
    "                    mask_strategy='whole-brain-template',\n",
    "                    do_cca=False,\n",
    "                    random_state=0)\n",
    "    fast_ica.fit(func_filenames)\n",
    "    P = pathlib.Path('/home/niusha/Documents/Codes/local-experiment/io/ICAs')\n",
    "    ICA_s = fast_ica.components_img_\n",
    "    ICA_s.to_filename(P / (f'ICAs_{group}_{i}.nii.gz'))\n",
    "    return ICA_s"
   ]
  },
  {
   "cell_type": "code",
   "execution_count": 89,
   "metadata": {},
   "outputs": [],
   "source": [
    "from nilearn import masking\n",
    "from nilearn.image import iter_img\n",
    "from nilearn.masking import apply_mask\n",
    "\n",
    "def Means_after_masking(ICAs,DBM_maps):\n",
    "\n",
    "    means_after_mask = np.zeros((30,DBM_maps.shape[3]))\n",
    "    for i, cur_img in enumerate(iter_img(ICAs)):\n",
    "        mask_img = masking.compute_epi_mask(cur_img)\n",
    "        means_after_mask[i,:] = np.mean(apply_mask(DBM_maps,mask_img),axis=1)\n",
    "        \n",
    "    return means_after_mask"
   ]
  },
  {
   "cell_type": "code",
   "execution_count": 62,
   "metadata": {},
   "outputs": [],
   "source": [
    "import pandas as pd\n",
    "\n",
    "subject_df = pd.read_csv(\"/home/niusha/Documents/Codes/subject_IDs.csv\")\n",
    "\n",
    "N = len(subject_df.ID)\n",
    "ID_map = dict(zip(range(N),subject_df.ID))\n",
    "\n",
    "Healthy_index = np.where(subject_df.PD == 0)\n",
    "Healthy_subject = subject_df.ID.iloc[Healthy_index]\n",
    "\n",
    "PD_index = np.where(subject_df.PD == 1)\n",
    "PD_subject = subject_df.ID.iloc[PD_index]"
   ]
  },
  {
   "cell_type": "code",
   "execution_count": 63,
   "metadata": {},
   "outputs": [],
   "source": [
    "from nilearn.image import load_img\n",
    "Original_DBMs = load_img(\"/home/niusha/Documents/Codes/reshape_merged_dbm3_masked.nii\")"
   ]
  },
  {
   "cell_type": "code",
   "execution_count": 64,
   "metadata": {},
   "outputs": [
    {
     "name": "stderr",
     "output_type": "stream",
     "text": [
      "/home/niusha/anaconda3/envs/py10/lib/python3.10/site-packages/joblib/memory.py:632: UserWarning: Cannot inspect object functools.partial(<function compute_multi_brain_mask at 0x7f4f99aca9e0>, mask_type='whole-brain'), ignore list will not work.\n",
      "  return hashing.hash(filter_args(self.func, self.ignore, args, kwargs),\n",
      "/home/niusha/anaconda3/envs/py10/lib/python3.10/site-packages/nilearn/masking.py:568: UserWarning: Persisting input arguments took 3.09s to run.\n",
      "If this happens often in your code, it can cause performance problems \n",
      "(results will be correct in all cases). \n",
      "The reason for this is probably some large input arguments for a wrapped\n",
      " function (e.g. large strings).\n",
      "THIS IS A JOBLIB ISSUE. If you can, kindly provide the joblib's team with an\n",
      " example so that they can fix the problem.\n",
      "  resampled_template = cache(resampling.resample_to_img, memory)(\n",
      "/home/niusha/anaconda3/envs/py10/lib/python3.10/site-packages/joblib/memory.py:810: UserWarning: Cannot inspect object functools.partial(<function compute_multi_brain_mask at 0x7f4f99aca9e0>, mask_type='whole-brain'), ignore list will not work.\n",
      "  argument_dict = filter_args(self.func, self.ignore,\n",
      "/home/niusha/anaconda3/envs/py10/lib/python3.10/site-packages/joblib/memory.py:632: UserWarning: Cannot inspect object functools.partial(<function compute_multi_brain_mask at 0x7f4f99aca9e0>, mask_type='whole-brain'), ignore list will not work.\n",
      "  return hashing.hash(filter_args(self.func, self.ignore, args, kwargs),\n",
      "/home/niusha/anaconda3/envs/py10/lib/python3.10/site-packages/nilearn/maskers/multi_nifti_masker.py:258: UserWarning: Persisting input arguments took 3.05s to run.\n",
      "If this happens often in your code, it can cause performance problems \n",
      "(results will be correct in all cases). \n",
      "The reason for this is probably some large input arguments for a wrapped\n",
      " function (e.g. large strings).\n",
      "THIS IS A JOBLIB ISSUE. If you can, kindly provide the joblib's team with an\n",
      " example so that they can fix the problem.\n",
      "  self.mask_img_ = self._cache(\n",
      "/home/niusha/anaconda3/envs/py10/lib/python3.10/site-packages/nilearn/maskers/nifti_masker.py:570: UserWarning: Persisting input arguments took 3.21s to run.\n",
      "If this happens often in your code, it can cause performance problems \n",
      "(results will be correct in all cases). \n",
      "The reason for this is probably some large input arguments for a wrapped\n",
      " function (e.g. large strings).\n",
      "THIS IS A JOBLIB ISSUE. If you can, kindly provide the joblib's team with an\n",
      " example so that they can fix the problem.\n",
      "  data = self._cache(\n",
      "/home/niusha/anaconda3/envs/py10/lib/python3.10/site-packages/sklearn/decomposition/_fastica.py:322: FutureWarning: Starting in v1.3, whiten=True should be specified as whiten='arbitrary-variance' (its current behaviour). This behavior is deprecated in 1.1 and will raise ValueError in 1.3.\n",
      "  S = est._fit_transform(X, compute_sources=compute_sources)\n",
      "/home/niusha/anaconda3/envs/py10/lib/python3.10/site-packages/sklearn/decomposition/_fastica.py:322: FutureWarning: Starting in v1.3, whiten=True should be specified as whiten='arbitrary-variance' (its current behaviour). This behavior is deprecated in 1.1 and will raise ValueError in 1.3.\n",
      "  S = est._fit_transform(X, compute_sources=compute_sources)\n",
      "/home/niusha/anaconda3/envs/py10/lib/python3.10/site-packages/sklearn/decomposition/_fastica.py:322: FutureWarning: Starting in v1.3, whiten=True should be specified as whiten='arbitrary-variance' (its current behaviour). This behavior is deprecated in 1.1 and will raise ValueError in 1.3.\n",
      "  S = est._fit_transform(X, compute_sources=compute_sources)\n",
      "/home/niusha/anaconda3/envs/py10/lib/python3.10/site-packages/sklearn/decomposition/_fastica.py:322: FutureWarning: Starting in v1.3, whiten=True should be specified as whiten='arbitrary-variance' (its current behaviour). This behavior is deprecated in 1.1 and will raise ValueError in 1.3.\n",
      "  S = est._fit_transform(X, compute_sources=compute_sources)\n",
      "/home/niusha/anaconda3/envs/py10/lib/python3.10/site-packages/sklearn/decomposition/_fastica.py:322: FutureWarning: Starting in v1.3, whiten=True should be specified as whiten='arbitrary-variance' (its current behaviour). This behavior is deprecated in 1.1 and will raise ValueError in 1.3.\n",
      "  S = est._fit_transform(X, compute_sources=compute_sources)\n",
      "/home/niusha/anaconda3/envs/py10/lib/python3.10/site-packages/sklearn/decomposition/_fastica.py:322: FutureWarning: Starting in v1.3, whiten=True should be specified as whiten='arbitrary-variance' (its current behaviour). This behavior is deprecated in 1.1 and will raise ValueError in 1.3.\n",
      "  S = est._fit_transform(X, compute_sources=compute_sources)\n",
      "/home/niusha/anaconda3/envs/py10/lib/python3.10/site-packages/sklearn/decomposition/_fastica.py:322: FutureWarning: Starting in v1.3, whiten=True should be specified as whiten='arbitrary-variance' (its current behaviour). This behavior is deprecated in 1.1 and will raise ValueError in 1.3.\n",
      "  S = est._fit_transform(X, compute_sources=compute_sources)\n",
      "/home/niusha/anaconda3/envs/py10/lib/python3.10/site-packages/sklearn/decomposition/_fastica.py:322: FutureWarning: Starting in v1.3, whiten=True should be specified as whiten='arbitrary-variance' (its current behaviour). This behavior is deprecated in 1.1 and will raise ValueError in 1.3.\n",
      "  S = est._fit_transform(X, compute_sources=compute_sources)\n",
      "/home/niusha/anaconda3/envs/py10/lib/python3.10/site-packages/sklearn/decomposition/_fastica.py:322: FutureWarning: Starting in v1.3, whiten=True should be specified as whiten='arbitrary-variance' (its current behaviour). This behavior is deprecated in 1.1 and will raise ValueError in 1.3.\n",
      "  S = est._fit_transform(X, compute_sources=compute_sources)\n",
      "/home/niusha/anaconda3/envs/py10/lib/python3.10/site-packages/sklearn/decomposition/_fastica.py:322: FutureWarning: Starting in v1.3, whiten=True should be specified as whiten='arbitrary-variance' (its current behaviour). This behavior is deprecated in 1.1 and will raise ValueError in 1.3.\n",
      "  S = est._fit_transform(X, compute_sources=compute_sources)\n",
      "/home/niusha/anaconda3/envs/py10/lib/python3.10/site-packages/joblib/memory.py:632: UserWarning: Cannot inspect object functools.partial(<function compute_multi_brain_mask at 0x7f4f99aca9e0>, mask_type='whole-brain'), ignore list will not work.\n",
      "  return hashing.hash(filter_args(self.func, self.ignore, args, kwargs),\n",
      "/home/niusha/anaconda3/envs/py10/lib/python3.10/site-packages/nilearn/masking.py:568: UserWarning: Persisting input arguments took 1.61s to run.\n",
      "If this happens often in your code, it can cause performance problems \n",
      "(results will be correct in all cases). \n",
      "The reason for this is probably some large input arguments for a wrapped\n",
      " function (e.g. large strings).\n",
      "THIS IS A JOBLIB ISSUE. If you can, kindly provide the joblib's team with an\n",
      " example so that they can fix the problem.\n",
      "  resampled_template = cache(resampling.resample_to_img, memory)(\n",
      "/home/niusha/anaconda3/envs/py10/lib/python3.10/site-packages/joblib/memory.py:810: UserWarning: Cannot inspect object functools.partial(<function compute_multi_brain_mask at 0x7f4f99aca9e0>, mask_type='whole-brain'), ignore list will not work.\n",
      "  argument_dict = filter_args(self.func, self.ignore,\n",
      "/home/niusha/anaconda3/envs/py10/lib/python3.10/site-packages/joblib/memory.py:632: UserWarning: Cannot inspect object functools.partial(<function compute_multi_brain_mask at 0x7f4f99aca9e0>, mask_type='whole-brain'), ignore list will not work.\n",
      "  return hashing.hash(filter_args(self.func, self.ignore, args, kwargs),\n",
      "/home/niusha/anaconda3/envs/py10/lib/python3.10/site-packages/nilearn/maskers/multi_nifti_masker.py:258: UserWarning: Persisting input arguments took 1.53s to run.\n",
      "If this happens often in your code, it can cause performance problems \n",
      "(results will be correct in all cases). \n",
      "The reason for this is probably some large input arguments for a wrapped\n",
      " function (e.g. large strings).\n",
      "THIS IS A JOBLIB ISSUE. If you can, kindly provide the joblib's team with an\n",
      " example so that they can fix the problem.\n",
      "  self.mask_img_ = self._cache(\n",
      "/home/niusha/anaconda3/envs/py10/lib/python3.10/site-packages/nilearn/maskers/nifti_masker.py:570: UserWarning: Persisting input arguments took 1.54s to run.\n",
      "If this happens often in your code, it can cause performance problems \n",
      "(results will be correct in all cases). \n",
      "The reason for this is probably some large input arguments for a wrapped\n",
      " function (e.g. large strings).\n",
      "THIS IS A JOBLIB ISSUE. If you can, kindly provide the joblib's team with an\n",
      " example so that they can fix the problem.\n",
      "  data = self._cache(\n",
      "/home/niusha/anaconda3/envs/py10/lib/python3.10/site-packages/sklearn/decomposition/_fastica.py:322: FutureWarning: Starting in v1.3, whiten=True should be specified as whiten='arbitrary-variance' (its current behaviour). This behavior is deprecated in 1.1 and will raise ValueError in 1.3.\n",
      "  S = est._fit_transform(X, compute_sources=compute_sources)\n",
      "/home/niusha/anaconda3/envs/py10/lib/python3.10/site-packages/sklearn/decomposition/_fastica.py:123: ConvergenceWarning: FastICA did not converge. Consider increasing tolerance or the maximum number of iterations.\n",
      "  warnings.warn(\n",
      "/home/niusha/anaconda3/envs/py10/lib/python3.10/site-packages/sklearn/decomposition/_fastica.py:322: FutureWarning: Starting in v1.3, whiten=True should be specified as whiten='arbitrary-variance' (its current behaviour). This behavior is deprecated in 1.1 and will raise ValueError in 1.3.\n",
      "  S = est._fit_transform(X, compute_sources=compute_sources)\n",
      "/home/niusha/anaconda3/envs/py10/lib/python3.10/site-packages/sklearn/decomposition/_fastica.py:123: ConvergenceWarning: FastICA did not converge. Consider increasing tolerance or the maximum number of iterations.\n",
      "  warnings.warn(\n",
      "/home/niusha/anaconda3/envs/py10/lib/python3.10/site-packages/sklearn/decomposition/_fastica.py:322: FutureWarning: Starting in v1.3, whiten=True should be specified as whiten='arbitrary-variance' (its current behaviour). This behavior is deprecated in 1.1 and will raise ValueError in 1.3.\n",
      "  S = est._fit_transform(X, compute_sources=compute_sources)\n",
      "/home/niusha/anaconda3/envs/py10/lib/python3.10/site-packages/sklearn/decomposition/_fastica.py:322: FutureWarning: Starting in v1.3, whiten=True should be specified as whiten='arbitrary-variance' (its current behaviour). This behavior is deprecated in 1.1 and will raise ValueError in 1.3.\n",
      "  S = est._fit_transform(X, compute_sources=compute_sources)\n",
      "/home/niusha/anaconda3/envs/py10/lib/python3.10/site-packages/sklearn/decomposition/_fastica.py:123: ConvergenceWarning: FastICA did not converge. Consider increasing tolerance or the maximum number of iterations.\n",
      "  warnings.warn(\n",
      "/home/niusha/anaconda3/envs/py10/lib/python3.10/site-packages/sklearn/decomposition/_fastica.py:322: FutureWarning: Starting in v1.3, whiten=True should be specified as whiten='arbitrary-variance' (its current behaviour). This behavior is deprecated in 1.1 and will raise ValueError in 1.3.\n",
      "  S = est._fit_transform(X, compute_sources=compute_sources)\n",
      "/home/niusha/anaconda3/envs/py10/lib/python3.10/site-packages/sklearn/decomposition/_fastica.py:123: ConvergenceWarning: FastICA did not converge. Consider increasing tolerance or the maximum number of iterations.\n",
      "  warnings.warn(\n",
      "/home/niusha/anaconda3/envs/py10/lib/python3.10/site-packages/sklearn/decomposition/_fastica.py:322: FutureWarning: Starting in v1.3, whiten=True should be specified as whiten='arbitrary-variance' (its current behaviour). This behavior is deprecated in 1.1 and will raise ValueError in 1.3.\n",
      "  S = est._fit_transform(X, compute_sources=compute_sources)\n",
      "/home/niusha/anaconda3/envs/py10/lib/python3.10/site-packages/sklearn/decomposition/_fastica.py:123: ConvergenceWarning: FastICA did not converge. Consider increasing tolerance or the maximum number of iterations.\n",
      "  warnings.warn(\n",
      "/home/niusha/anaconda3/envs/py10/lib/python3.10/site-packages/sklearn/decomposition/_fastica.py:322: FutureWarning: Starting in v1.3, whiten=True should be specified as whiten='arbitrary-variance' (its current behaviour). This behavior is deprecated in 1.1 and will raise ValueError in 1.3.\n",
      "  S = est._fit_transform(X, compute_sources=compute_sources)\n",
      "/home/niusha/anaconda3/envs/py10/lib/python3.10/site-packages/sklearn/decomposition/_fastica.py:123: ConvergenceWarning: FastICA did not converge. Consider increasing tolerance or the maximum number of iterations.\n",
      "  warnings.warn(\n",
      "/home/niusha/anaconda3/envs/py10/lib/python3.10/site-packages/sklearn/decomposition/_fastica.py:322: FutureWarning: Starting in v1.3, whiten=True should be specified as whiten='arbitrary-variance' (its current behaviour). This behavior is deprecated in 1.1 and will raise ValueError in 1.3.\n",
      "  S = est._fit_transform(X, compute_sources=compute_sources)\n",
      "/home/niusha/anaconda3/envs/py10/lib/python3.10/site-packages/sklearn/decomposition/_fastica.py:123: ConvergenceWarning: FastICA did not converge. Consider increasing tolerance or the maximum number of iterations.\n",
      "  warnings.warn(\n",
      "/home/niusha/anaconda3/envs/py10/lib/python3.10/site-packages/sklearn/decomposition/_fastica.py:322: FutureWarning: Starting in v1.3, whiten=True should be specified as whiten='arbitrary-variance' (its current behaviour). This behavior is deprecated in 1.1 and will raise ValueError in 1.3.\n",
      "  S = est._fit_transform(X, compute_sources=compute_sources)\n",
      "/home/niusha/anaconda3/envs/py10/lib/python3.10/site-packages/sklearn/decomposition/_fastica.py:123: ConvergenceWarning: FastICA did not converge. Consider increasing tolerance or the maximum number of iterations.\n",
      "  warnings.warn(\n",
      "/home/niusha/anaconda3/envs/py10/lib/python3.10/site-packages/sklearn/decomposition/_fastica.py:322: FutureWarning: Starting in v1.3, whiten=True should be specified as whiten='arbitrary-variance' (its current behaviour). This behavior is deprecated in 1.1 and will raise ValueError in 1.3.\n",
      "  S = est._fit_transform(X, compute_sources=compute_sources)\n",
      "/home/niusha/anaconda3/envs/py10/lib/python3.10/site-packages/sklearn/decomposition/_fastica.py:123: ConvergenceWarning: FastICA did not converge. Consider increasing tolerance or the maximum number of iterations.\n",
      "  warnings.warn(\n"
     ]
    }
   ],
   "source": [
    "from random import sample\n",
    "from nilearn.image import index_img\n",
    "\n",
    "PD_sample = sample((PD_index[0]).tolist(), len(PD_index[0]))\n",
    "Healthy_sample = sample((Healthy_index[0]).tolist(), len(Healthy_index[0]))\n",
    "\n",
    "PD_bootstrapped_cohort = index_img(Original_DBMs, PD_sample)\n",
    "Healthy_bootstrapped_cohort = index_img(Original_DBMs, Healthy_sample)\n",
    "\n",
    "PD_ICAs = ICA_decomposition(PD_bootstrapped_cohort, \"PD\", 1)\n",
    "Healthy_ICAs = ICA_decomposition(Healthy_bootstrapped_cohort, \"Healthy\", 1)"
   ]
  },
  {
   "cell_type": "code",
   "execution_count": 90,
   "metadata": {},
   "outputs": [
    {
     "name": "stdout",
     "output_type": "stream",
     "text": [
      "(101, 119, 97, 30)\n",
      "(101, 119, 97, 30)\n"
     ]
    }
   ],
   "source": [
    "PD_means = Means_after_masking(PD_ICAs,PD_bootstrapped_cohort)\n",
    "Healthy_means = Means_after_masking(Healthy_ICAs,Healthy_bootstrapped_cohort)"
   ]
  },
  {
   "cell_type": "code",
   "execution_count": 91,
   "metadata": {},
   "outputs": [],
   "source": [
    "from scipy.stats import ttest_ind\n",
    "\n",
    "P_vals = np.zeros([30])\n",
    "T_vals = np.zeros([30])\n",
    "for i in range(30):\n",
    "    T_vals[i], P_vals[i] = ttest_ind(PD_means[:,i], Healthy_means[:,i])\n"
   ]
  },
  {
   "cell_type": "code",
   "execution_count": 93,
   "metadata": {},
   "outputs": [
    {
     "data": {
      "text/plain": [
       "array([1.32736022e-25, 1.31426185e-38, 1.79223254e-48, 9.04914945e-24,\n",
       "       6.83140773e-57, 3.94030939e-04, 4.00576297e-18, 1.17997173e-45,\n",
       "       2.33091257e-54, 7.88759613e-17, 7.12293729e-37, 6.66396254e-42,\n",
       "       1.91530642e-37, 1.62190707e+01, 2.31767046e-50, 1.45812100e-23,\n",
       "       2.15466993e-09, 1.81134446e-41, 1.65636613e-06, 2.04879978e-10,\n",
       "       1.63058394e-45, 4.30232938e-43, 8.51303443e-55, 1.79313472e-35,\n",
       "       4.26283853e-63, 1.26499302e-08, 1.67470315e-29, 4.66986862e-36,\n",
       "       1.87524975e-47, 3.14024712e-45])"
      ]
     },
     "execution_count": 93,
     "metadata": {},
     "output_type": "execute_result"
    }
   ],
   "source": [
    "P_vals * 30"
   ]
  },
  {
   "cell_type": "code",
   "execution_count": null,
   "metadata": {},
   "outputs": [],
   "source": [
    "# from nilearn.plotting import plot_prob_atlas\n",
    "\n",
    "# # Plot all ICA components together\n",
    "# plot_prob_atlas(canica_components_img, title='All ICA components')\n",
    "\n",
    "# from nilearn.image import iter_img\n",
    "# from nilearn.plotting import plot_stat_map, show\n",
    "\n",
    "# for i, cur_img in enumerate(iter_img(canica_components_img)):\n",
    "#     plot_stat_map(cur_img, display_mode=\"z\", title=\"IC %d\" % i,\n",
    "#                   cut_coords=1, colorbar=False)"
   ]
  },
  {
   "cell_type": "code",
   "execution_count": null,
   "metadata": {},
   "outputs": [],
   "source": [
    "# from nilearn.glm import threshold_stats_img\n",
    "\n",
    "# ICA_tr = threshold_stats_img(stat_img=ICAs, threshold=3.0)\n",
    "#The output is not compatible with mask and also I dont know what is the ouput of ICA. I tought it would be z stat, but when I set thr=3 I receive warning regarding the amount"
   ]
  }
 ],
 "metadata": {
  "kernelspec": {
   "display_name": "Python 3.10.10 ('py10')",
   "language": "python",
   "name": "python3"
  },
  "language_info": {
   "codemirror_mode": {
    "name": "ipython",
    "version": 3
   },
   "file_extension": ".py",
   "mimetype": "text/x-python",
   "name": "python",
   "nbconvert_exporter": "python",
   "pygments_lexer": "ipython3",
   "version": "3.10.10"
  },
  "orig_nbformat": 4,
  "vscode": {
   "interpreter": {
    "hash": "34ac72a99a8d161ddae0a97484965b163e14fc1004e96fbe7e082180324cacb8"
   }
  }
 },
 "nbformat": 4,
 "nbformat_minor": 2
}
